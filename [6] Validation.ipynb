{
 "cells": [
  {
   "cell_type": "markdown",
   "metadata": {},
   "source": [
    "This file intends to solve the following questions:\n",
    "    - build the validation process by comparing brand-profile"
   ]
  },
  {
   "cell_type": "code",
   "execution_count": 148,
   "metadata": {},
   "outputs": [],
   "source": [
    "import requests \n",
    "import os,glob\n",
    "from lxml import html\n",
    "from bs4 import BeautifulSoup, __version__\n",
    "import re #regular expression library\n",
    "import pandas as pd\n",
    "import numpy as np\n",
    "import random\n",
    "from sklearn.feature_extraction.text import CountVectorizer\n",
    "from scipy.spatial import distance\n",
    "import statistics "
   ]
  },
  {
   "cell_type": "markdown",
   "metadata": {},
   "source": [
    "# Import the relative comprehensive brand list\n",
    "From nordstrom.com (includes women and men)"
   ]
  },
  {
   "cell_type": "code",
   "execution_count": 2,
   "metadata": {},
   "outputs": [],
   "source": [
    "with open('/Users/hellofutrue/Desktop/Insight/Python/Untitled Folder/brandlist.txt') as f:\n",
    "    brands = f.read().splitlines()\n",
    "brands = set(brands) #remove duplicates\n",
    "brands = list(filter(None, brands)) #remove the empty element"
   ]
  },
  {
   "cell_type": "code",
   "execution_count": 3,
   "metadata": {},
   "outputs": [
    {
     "data": {
      "text/plain": [
       "1002"
      ]
     },
     "execution_count": 3,
     "metadata": {},
     "output_type": "execute_result"
    }
   ],
   "source": [
    "len(brands) #1002 brands in total"
   ]
  },
  {
   "cell_type": "code",
   "execution_count": 4,
   "metadata": {},
   "outputs": [],
   "source": [
    "voc = dict(zip(brands,range(len(brands))))# create the dictionationary based on brand list\n",
    "vectorizer = CountVectorizer(vocabulary = voc) #define the vectorizer function"
   ]
  },
  {
   "cell_type": "markdown",
   "metadata": {},
   "source": [
    "# Import the influencers' posts"
   ]
  },
  {
   "cell_type": "code",
   "execution_count": 5,
   "metadata": {},
   "outputs": [],
   "source": [
    "# All influencers\n",
    "posts_influencers = pd.read_csv('/Users/hellofutrue/Desktop/Insight/Python/Feb/files/posts_influencers.csv')\n",
    "posts_influencers = posts_influencers.rename(index=str, columns={'Unnamed: 0': \"people\", '0': 'content'})"
   ]
  },
  {
   "cell_type": "code",
   "execution_count": 6,
   "metadata": {},
   "outputs": [],
   "source": [
    "# import top list\n",
    "#top influencers list\n",
    "w = open('/Users/hellofutrue/Desktop/Insight/Python/Feb/files/top_influencer_list.txt', 'r')\n",
    "list = w.readlines()\n",
    "w.close()\n",
    "top_list = list[0].split()"
   ]
  },
  {
   "cell_type": "code",
   "execution_count": 7,
   "metadata": {},
   "outputs": [],
   "source": [
    "# top influencers only\n",
    "top_posts = posts_influencers.loc[posts_influencers['people'].isin(top_list)]"
   ]
  },
  {
   "cell_type": "code",
   "execution_count": 8,
   "metadata": {},
   "outputs": [],
   "source": [
    "top_listnew = top_posts['people'] # 49 top influencers"
   ]
  },
  {
   "cell_type": "code",
   "execution_count": 148,
   "metadata": {},
   "outputs": [],
   "source": [
    "#write out top_listnew\n",
    "file = open('/Users/hellofutrue/Desktop/Insight/Python/Feb/top_listnew.txt','w') \n",
    "file.write(' '.join(top_listnew)) \n",
    "file.close() "
   ]
  },
  {
   "cell_type": "code",
   "execution_count": 153,
   "metadata": {},
   "outputs": [],
   "source": [
    "#read in top_listnew\n",
    "f = open('/Users/hellofutrue/Desktop/Insight/Python/Feb/top_listnew.txt', 'r')\n",
    "list = f.readlines()\n",
    "f.close()\n",
    "top_listnew = list[0].split()"
   ]
  },
  {
   "cell_type": "markdown",
   "metadata": {},
   "source": [
    "# Vectorizing"
   ]
  },
  {
   "cell_type": "code",
   "execution_count": 9,
   "metadata": {},
   "outputs": [],
   "source": [
    "# Create brand vector\n",
    "X = vectorizer.fit_transform(top_posts['content'])"
   ]
  },
  {
   "cell_type": "code",
   "execution_count": 10,
   "metadata": {},
   "outputs": [],
   "source": [
    "df = pd.DataFrame(X.todense(),index = [top_listnew],columns = [brands]).T"
   ]
  },
  {
   "cell_type": "code",
   "execution_count": 11,
   "metadata": {},
   "outputs": [
    {
     "data": {
      "text/html": [
       "<div>\n",
       "<style scoped>\n",
       "    .dataframe tbody tr th:only-of-type {\n",
       "        vertical-align: middle;\n",
       "    }\n",
       "\n",
       "    .dataframe tbody tr th {\n",
       "        vertical-align: top;\n",
       "    }\n",
       "\n",
       "    .dataframe thead tr th {\n",
       "        text-align: left;\n",
       "    }\n",
       "</style>\n",
       "<table border=\"1\" class=\"dataframe\">\n",
       "  <thead>\n",
       "    <tr>\n",
       "      <th>people</th>\n",
       "      <th>_emmachamberlain</th>\n",
       "      <th>adele</th>\n",
       "      <th>arianagrande</th>\n",
       "      <th>badgalriri</th>\n",
       "      <th>barackobama</th>\n",
       "      <th>beyonce</th>\n",
       "      <th>blakelively</th>\n",
       "      <th>bretmanrock</th>\n",
       "      <th>champagnepapi</th>\n",
       "      <th>chrisbrownofficial</th>\n",
       "      <th>...</th>\n",
       "      <th>sommerray</th>\n",
       "      <th>stephencurry30</th>\n",
       "      <th>theellenshow</th>\n",
       "      <th>therock</th>\n",
       "      <th>vancityreynolds</th>\n",
       "      <th>wherearetheavocados</th>\n",
       "      <th>willsmith</th>\n",
       "      <th>world_record_egg</th>\n",
       "      <th>zacefron</th>\n",
       "      <th>zendaya</th>\n",
       "    </tr>\n",
       "  </thead>\n",
       "  <tbody>\n",
       "    <tr>\n",
       "      <th>La Vie Rebecca Taylor</th>\n",
       "      <td>0</td>\n",
       "      <td>0</td>\n",
       "      <td>0</td>\n",
       "      <td>0</td>\n",
       "      <td>0</td>\n",
       "      <td>0</td>\n",
       "      <td>0</td>\n",
       "      <td>0</td>\n",
       "      <td>0</td>\n",
       "      <td>0</td>\n",
       "      <td>...</td>\n",
       "      <td>0</td>\n",
       "      <td>0</td>\n",
       "      <td>0</td>\n",
       "      <td>0</td>\n",
       "      <td>0</td>\n",
       "      <td>0</td>\n",
       "      <td>0</td>\n",
       "      <td>0</td>\n",
       "      <td>0</td>\n",
       "      <td>0</td>\n",
       "    </tr>\n",
       "    <tr>\n",
       "      <th>Bony Levy</th>\n",
       "      <td>0</td>\n",
       "      <td>0</td>\n",
       "      <td>0</td>\n",
       "      <td>0</td>\n",
       "      <td>0</td>\n",
       "      <td>0</td>\n",
       "      <td>0</td>\n",
       "      <td>0</td>\n",
       "      <td>0</td>\n",
       "      <td>0</td>\n",
       "      <td>...</td>\n",
       "      <td>0</td>\n",
       "      <td>0</td>\n",
       "      <td>0</td>\n",
       "      <td>0</td>\n",
       "      <td>0</td>\n",
       "      <td>0</td>\n",
       "      <td>0</td>\n",
       "      <td>0</td>\n",
       "      <td>0</td>\n",
       "      <td>0</td>\n",
       "    </tr>\n",
       "    <tr>\n",
       "      <th>Sophie Bille Brahe</th>\n",
       "      <td>0</td>\n",
       "      <td>0</td>\n",
       "      <td>0</td>\n",
       "      <td>0</td>\n",
       "      <td>0</td>\n",
       "      <td>0</td>\n",
       "      <td>0</td>\n",
       "      <td>0</td>\n",
       "      <td>0</td>\n",
       "      <td>0</td>\n",
       "      <td>...</td>\n",
       "      <td>0</td>\n",
       "      <td>0</td>\n",
       "      <td>0</td>\n",
       "      <td>0</td>\n",
       "      <td>0</td>\n",
       "      <td>0</td>\n",
       "      <td>0</td>\n",
       "      <td>0</td>\n",
       "      <td>0</td>\n",
       "      <td>0</td>\n",
       "    </tr>\n",
       "    <tr>\n",
       "      <th>OUR LEGACY</th>\n",
       "      <td>0</td>\n",
       "      <td>0</td>\n",
       "      <td>0</td>\n",
       "      <td>0</td>\n",
       "      <td>0</td>\n",
       "      <td>0</td>\n",
       "      <td>0</td>\n",
       "      <td>0</td>\n",
       "      <td>0</td>\n",
       "      <td>0</td>\n",
       "      <td>...</td>\n",
       "      <td>0</td>\n",
       "      <td>0</td>\n",
       "      <td>0</td>\n",
       "      <td>0</td>\n",
       "      <td>0</td>\n",
       "      <td>0</td>\n",
       "      <td>0</td>\n",
       "      <td>0</td>\n",
       "      <td>0</td>\n",
       "      <td>0</td>\n",
       "    </tr>\n",
       "    <tr>\n",
       "      <th>Urban Decay</th>\n",
       "      <td>0</td>\n",
       "      <td>0</td>\n",
       "      <td>0</td>\n",
       "      <td>0</td>\n",
       "      <td>0</td>\n",
       "      <td>0</td>\n",
       "      <td>0</td>\n",
       "      <td>0</td>\n",
       "      <td>0</td>\n",
       "      <td>0</td>\n",
       "      <td>...</td>\n",
       "      <td>0</td>\n",
       "      <td>0</td>\n",
       "      <td>0</td>\n",
       "      <td>0</td>\n",
       "      <td>0</td>\n",
       "      <td>0</td>\n",
       "      <td>0</td>\n",
       "      <td>0</td>\n",
       "      <td>0</td>\n",
       "      <td>0</td>\n",
       "    </tr>\n",
       "  </tbody>\n",
       "</table>\n",
       "<p>5 rows × 49 columns</p>\n",
       "</div>"
      ],
      "text/plain": [
       "people                _emmachamberlain adele arianagrande badgalriri  \\\n",
       "La Vie Rebecca Taylor                0     0            0          0   \n",
       "Bony Levy                            0     0            0          0   \n",
       "Sophie Bille Brahe                   0     0            0          0   \n",
       "OUR LEGACY                           0     0            0          0   \n",
       "Urban Decay                          0     0            0          0   \n",
       "\n",
       "people                barackobama beyonce blakelively bretmanrock  \\\n",
       "La Vie Rebecca Taylor           0       0           0           0   \n",
       "Bony Levy                       0       0           0           0   \n",
       "Sophie Bille Brahe              0       0           0           0   \n",
       "OUR LEGACY                      0       0           0           0   \n",
       "Urban Decay                     0       0           0           0   \n",
       "\n",
       "people                champagnepapi chrisbrownofficial   ...   sommerray  \\\n",
       "La Vie Rebecca Taylor             0                  0   ...           0   \n",
       "Bony Levy                         0                  0   ...           0   \n",
       "Sophie Bille Brahe                0                  0   ...           0   \n",
       "OUR LEGACY                        0                  0   ...           0   \n",
       "Urban Decay                       0                  0   ...           0   \n",
       "\n",
       "people                stephencurry30 theellenshow therock vancityreynolds  \\\n",
       "La Vie Rebecca Taylor              0            0       0               0   \n",
       "Bony Levy                          0            0       0               0   \n",
       "Sophie Bille Brahe                 0            0       0               0   \n",
       "OUR LEGACY                         0            0       0               0   \n",
       "Urban Decay                        0            0       0               0   \n",
       "\n",
       "people                wherearetheavocados willsmith world_record_egg zacefron  \\\n",
       "La Vie Rebecca Taylor                   0         0                0        0   \n",
       "Bony Levy                               0         0                0        0   \n",
       "Sophie Bille Brahe                      0         0                0        0   \n",
       "OUR LEGACY                              0         0                0        0   \n",
       "Urban Decay                             0         0                0        0   \n",
       "\n",
       "people                zendaya  \n",
       "La Vie Rebecca Taylor       0  \n",
       "Bony Levy                   0  \n",
       "Sophie Bille Brahe          0  \n",
       "OUR LEGACY                  0  \n",
       "Urban Decay                 0  \n",
       "\n",
       "[5 rows x 49 columns]"
      ]
     },
     "execution_count": 11,
     "metadata": {},
     "output_type": "execute_result"
    }
   ],
   "source": [
    "df.head()"
   ]
  },
  {
   "cell_type": "code",
   "execution_count": 12,
   "metadata": {},
   "outputs": [],
   "source": [
    "#remove multiindex\n",
    "df.columns = df.columns.map(''.join)\n",
    "df.index = df.index.map(''.join)"
   ]
  },
  {
   "cell_type": "code",
   "execution_count": 16,
   "metadata": {},
   "outputs": [
    {
     "data": {
      "text/html": [
       "<div>\n",
       "<style scoped>\n",
       "    .dataframe tbody tr th:only-of-type {\n",
       "        vertical-align: middle;\n",
       "    }\n",
       "\n",
       "    .dataframe tbody tr th {\n",
       "        vertical-align: top;\n",
       "    }\n",
       "\n",
       "    .dataframe thead th {\n",
       "        text-align: right;\n",
       "    }\n",
       "</style>\n",
       "<table border=\"1\" class=\"dataframe\">\n",
       "  <thead>\n",
       "    <tr style=\"text-align: right;\">\n",
       "      <th></th>\n",
       "      <th>_emmachamberlain</th>\n",
       "      <th>adele</th>\n",
       "      <th>arianagrande</th>\n",
       "      <th>badgalriri</th>\n",
       "      <th>barackobama</th>\n",
       "      <th>beyonce</th>\n",
       "      <th>blakelively</th>\n",
       "      <th>bretmanrock</th>\n",
       "      <th>champagnepapi</th>\n",
       "      <th>chrisbrownofficial</th>\n",
       "      <th>...</th>\n",
       "      <th>sommerray</th>\n",
       "      <th>stephencurry30</th>\n",
       "      <th>theellenshow</th>\n",
       "      <th>therock</th>\n",
       "      <th>vancityreynolds</th>\n",
       "      <th>wherearetheavocados</th>\n",
       "      <th>willsmith</th>\n",
       "      <th>world_record_egg</th>\n",
       "      <th>zacefron</th>\n",
       "      <th>zendaya</th>\n",
       "    </tr>\n",
       "  </thead>\n",
       "  <tbody>\n",
       "    <tr>\n",
       "      <th>count</th>\n",
       "      <td>1002.0</td>\n",
       "      <td>1002.0</td>\n",
       "      <td>1002.0</td>\n",
       "      <td>1002.0</td>\n",
       "      <td>1002.0</td>\n",
       "      <td>1002.0</td>\n",
       "      <td>1002.0</td>\n",
       "      <td>1002.0</td>\n",
       "      <td>1002.0</td>\n",
       "      <td>1002.0</td>\n",
       "      <td>...</td>\n",
       "      <td>1002.0</td>\n",
       "      <td>1002.0</td>\n",
       "      <td>1002.000000</td>\n",
       "      <td>1002.000000</td>\n",
       "      <td>1002.0</td>\n",
       "      <td>1002.0</td>\n",
       "      <td>1002.0</td>\n",
       "      <td>1002.0</td>\n",
       "      <td>1002.0</td>\n",
       "      <td>1002.0</td>\n",
       "    </tr>\n",
       "    <tr>\n",
       "      <th>mean</th>\n",
       "      <td>0.0</td>\n",
       "      <td>0.0</td>\n",
       "      <td>0.0</td>\n",
       "      <td>0.0</td>\n",
       "      <td>0.0</td>\n",
       "      <td>0.0</td>\n",
       "      <td>0.0</td>\n",
       "      <td>0.0</td>\n",
       "      <td>0.0</td>\n",
       "      <td>0.0</td>\n",
       "      <td>...</td>\n",
       "      <td>0.0</td>\n",
       "      <td>0.0</td>\n",
       "      <td>0.000998</td>\n",
       "      <td>0.026946</td>\n",
       "      <td>0.0</td>\n",
       "      <td>0.0</td>\n",
       "      <td>0.0</td>\n",
       "      <td>0.0</td>\n",
       "      <td>0.0</td>\n",
       "      <td>0.0</td>\n",
       "    </tr>\n",
       "    <tr>\n",
       "      <th>std</th>\n",
       "      <td>0.0</td>\n",
       "      <td>0.0</td>\n",
       "      <td>0.0</td>\n",
       "      <td>0.0</td>\n",
       "      <td>0.0</td>\n",
       "      <td>0.0</td>\n",
       "      <td>0.0</td>\n",
       "      <td>0.0</td>\n",
       "      <td>0.0</td>\n",
       "      <td>0.0</td>\n",
       "      <td>...</td>\n",
       "      <td>0.0</td>\n",
       "      <td>0.0</td>\n",
       "      <td>0.031591</td>\n",
       "      <td>0.821947</td>\n",
       "      <td>0.0</td>\n",
       "      <td>0.0</td>\n",
       "      <td>0.0</td>\n",
       "      <td>0.0</td>\n",
       "      <td>0.0</td>\n",
       "      <td>0.0</td>\n",
       "    </tr>\n",
       "    <tr>\n",
       "      <th>min</th>\n",
       "      <td>0.0</td>\n",
       "      <td>0.0</td>\n",
       "      <td>0.0</td>\n",
       "      <td>0.0</td>\n",
       "      <td>0.0</td>\n",
       "      <td>0.0</td>\n",
       "      <td>0.0</td>\n",
       "      <td>0.0</td>\n",
       "      <td>0.0</td>\n",
       "      <td>0.0</td>\n",
       "      <td>...</td>\n",
       "      <td>0.0</td>\n",
       "      <td>0.0</td>\n",
       "      <td>0.000000</td>\n",
       "      <td>0.000000</td>\n",
       "      <td>0.0</td>\n",
       "      <td>0.0</td>\n",
       "      <td>0.0</td>\n",
       "      <td>0.0</td>\n",
       "      <td>0.0</td>\n",
       "      <td>0.0</td>\n",
       "    </tr>\n",
       "    <tr>\n",
       "      <th>25%</th>\n",
       "      <td>0.0</td>\n",
       "      <td>0.0</td>\n",
       "      <td>0.0</td>\n",
       "      <td>0.0</td>\n",
       "      <td>0.0</td>\n",
       "      <td>0.0</td>\n",
       "      <td>0.0</td>\n",
       "      <td>0.0</td>\n",
       "      <td>0.0</td>\n",
       "      <td>0.0</td>\n",
       "      <td>...</td>\n",
       "      <td>0.0</td>\n",
       "      <td>0.0</td>\n",
       "      <td>0.000000</td>\n",
       "      <td>0.000000</td>\n",
       "      <td>0.0</td>\n",
       "      <td>0.0</td>\n",
       "      <td>0.0</td>\n",
       "      <td>0.0</td>\n",
       "      <td>0.0</td>\n",
       "      <td>0.0</td>\n",
       "    </tr>\n",
       "    <tr>\n",
       "      <th>50%</th>\n",
       "      <td>0.0</td>\n",
       "      <td>0.0</td>\n",
       "      <td>0.0</td>\n",
       "      <td>0.0</td>\n",
       "      <td>0.0</td>\n",
       "      <td>0.0</td>\n",
       "      <td>0.0</td>\n",
       "      <td>0.0</td>\n",
       "      <td>0.0</td>\n",
       "      <td>0.0</td>\n",
       "      <td>...</td>\n",
       "      <td>0.0</td>\n",
       "      <td>0.0</td>\n",
       "      <td>0.000000</td>\n",
       "      <td>0.000000</td>\n",
       "      <td>0.0</td>\n",
       "      <td>0.0</td>\n",
       "      <td>0.0</td>\n",
       "      <td>0.0</td>\n",
       "      <td>0.0</td>\n",
       "      <td>0.0</td>\n",
       "    </tr>\n",
       "    <tr>\n",
       "      <th>75%</th>\n",
       "      <td>0.0</td>\n",
       "      <td>0.0</td>\n",
       "      <td>0.0</td>\n",
       "      <td>0.0</td>\n",
       "      <td>0.0</td>\n",
       "      <td>0.0</td>\n",
       "      <td>0.0</td>\n",
       "      <td>0.0</td>\n",
       "      <td>0.0</td>\n",
       "      <td>0.0</td>\n",
       "      <td>...</td>\n",
       "      <td>0.0</td>\n",
       "      <td>0.0</td>\n",
       "      <td>0.000000</td>\n",
       "      <td>0.000000</td>\n",
       "      <td>0.0</td>\n",
       "      <td>0.0</td>\n",
       "      <td>0.0</td>\n",
       "      <td>0.0</td>\n",
       "      <td>0.0</td>\n",
       "      <td>0.0</td>\n",
       "    </tr>\n",
       "    <tr>\n",
       "      <th>max</th>\n",
       "      <td>0.0</td>\n",
       "      <td>0.0</td>\n",
       "      <td>0.0</td>\n",
       "      <td>0.0</td>\n",
       "      <td>0.0</td>\n",
       "      <td>0.0</td>\n",
       "      <td>0.0</td>\n",
       "      <td>0.0</td>\n",
       "      <td>0.0</td>\n",
       "      <td>0.0</td>\n",
       "      <td>...</td>\n",
       "      <td>0.0</td>\n",
       "      <td>0.0</td>\n",
       "      <td>1.000000</td>\n",
       "      <td>26.000000</td>\n",
       "      <td>0.0</td>\n",
       "      <td>0.0</td>\n",
       "      <td>0.0</td>\n",
       "      <td>0.0</td>\n",
       "      <td>0.0</td>\n",
       "      <td>0.0</td>\n",
       "    </tr>\n",
       "  </tbody>\n",
       "</table>\n",
       "<p>8 rows × 49 columns</p>\n",
       "</div>"
      ],
      "text/plain": [
       "       _emmachamberlain   adele  arianagrande  badgalriri  barackobama  \\\n",
       "count            1002.0  1002.0        1002.0      1002.0       1002.0   \n",
       "mean                0.0     0.0           0.0         0.0          0.0   \n",
       "std                 0.0     0.0           0.0         0.0          0.0   \n",
       "min                 0.0     0.0           0.0         0.0          0.0   \n",
       "25%                 0.0     0.0           0.0         0.0          0.0   \n",
       "50%                 0.0     0.0           0.0         0.0          0.0   \n",
       "75%                 0.0     0.0           0.0         0.0          0.0   \n",
       "max                 0.0     0.0           0.0         0.0          0.0   \n",
       "\n",
       "       beyonce  blakelively  bretmanrock  champagnepapi  chrisbrownofficial  \\\n",
       "count   1002.0       1002.0       1002.0         1002.0              1002.0   \n",
       "mean       0.0          0.0          0.0            0.0                 0.0   \n",
       "std        0.0          0.0          0.0            0.0                 0.0   \n",
       "min        0.0          0.0          0.0            0.0                 0.0   \n",
       "25%        0.0          0.0          0.0            0.0                 0.0   \n",
       "50%        0.0          0.0          0.0            0.0                 0.0   \n",
       "75%        0.0          0.0          0.0            0.0                 0.0   \n",
       "max        0.0          0.0          0.0            0.0                 0.0   \n",
       "\n",
       "        ...     sommerray  stephencurry30  theellenshow      therock  \\\n",
       "count   ...        1002.0          1002.0   1002.000000  1002.000000   \n",
       "mean    ...           0.0             0.0      0.000998     0.026946   \n",
       "std     ...           0.0             0.0      0.031591     0.821947   \n",
       "min     ...           0.0             0.0      0.000000     0.000000   \n",
       "25%     ...           0.0             0.0      0.000000     0.000000   \n",
       "50%     ...           0.0             0.0      0.000000     0.000000   \n",
       "75%     ...           0.0             0.0      0.000000     0.000000   \n",
       "max     ...           0.0             0.0      1.000000    26.000000   \n",
       "\n",
       "       vancityreynolds  wherearetheavocados  willsmith  world_record_egg  \\\n",
       "count           1002.0               1002.0     1002.0            1002.0   \n",
       "mean               0.0                  0.0        0.0               0.0   \n",
       "std                0.0                  0.0        0.0               0.0   \n",
       "min                0.0                  0.0        0.0               0.0   \n",
       "25%                0.0                  0.0        0.0               0.0   \n",
       "50%                0.0                  0.0        0.0               0.0   \n",
       "75%                0.0                  0.0        0.0               0.0   \n",
       "max                0.0                  0.0        0.0               0.0   \n",
       "\n",
       "       zacefron  zendaya  \n",
       "count    1002.0   1002.0  \n",
       "mean        0.0      0.0  \n",
       "std         0.0      0.0  \n",
       "min         0.0      0.0  \n",
       "25%         0.0      0.0  \n",
       "50%         0.0      0.0  \n",
       "75%         0.0      0.0  \n",
       "max         0.0      0.0  \n",
       "\n",
       "[8 rows x 49 columns]"
      ]
     },
     "execution_count": 16,
     "metadata": {},
     "output_type": "execute_result"
    }
   ],
   "source": [
    "df.describe()"
   ]
  },
  {
   "cell_type": "code",
   "execution_count": 31,
   "metadata": {},
   "outputs": [
    {
     "data": {
      "text/plain": [
       "Index(['jamescharles', 'jlo', 'kendalljenner', 'kyliejenner', 'nickiminaj',\n",
       "       'theellenshow', 'therock'],\n",
       "      dtype='object')"
      ]
     },
     "execution_count": 31,
     "metadata": {},
     "output_type": "execute_result"
    }
   ],
   "source": [
    "df.columns[df.sum(axis=0) != 0] #column-wise sum ==> influencers who have mentioned any of the brand"
   ]
  },
  {
   "cell_type": "code",
   "execution_count": 29,
   "metadata": {},
   "outputs": [
    {
     "data": {
      "text/plain": [
       "La Vie Rebecca Taylor    0\n",
       "Bony Levy                0\n",
       "Sophie Bille Brahe       0\n",
       "OUR LEGACY               0\n",
       "Urban Decay              0\n",
       "Ingrid & Isabel          0\n",
       "Sorel                    0\n",
       "Charles David            0\n",
       "Y-3                      0\n",
       "Saturday Skin            0\n",
       "Vera Wang                0\n",
       "Burberry                 0\n",
       "Jouer                    0\n",
       "3LAB                     0\n",
       "Bogs                     0\n",
       "Maje                     0\n",
       "Fitbit                   0\n",
       "Daniela Villegas         0\n",
       "Keepsake the label       0\n",
       "KARA                     0\n",
       "Shinola                  0\n",
       "Rebecca Taylor           0\n",
       "Comme des Garçons        0\n",
       "beautyblender®           0\n",
       "Charlotte Chesnais       0\n",
       "Billy Reid               0\n",
       "Saloni                   0\n",
       "7 For All Mankind®       0\n",
       "Belly Bandit®            0\n",
       "TOCCA                    0\n",
       "                        ..\n",
       "IPKN                     0\n",
       "Chelsea28                0\n",
       "Yummie Tummie            0\n",
       "Dunhill                  0\n",
       "Munro                    0\n",
       "Sanctuary                0\n",
       "Leith                    0\n",
       "sandro                   0\n",
       "Scotch & Soda            0\n",
       "Vetements                0\n",
       "Stutterheim              0\n",
       "Marques’Almeida          0\n",
       "Frye                     0\n",
       "Sundry                   0\n",
       "MZ Wallace               0\n",
       "The Organic Pharmacy     0\n",
       "Nurse Jamie              0\n",
       "Kristin Cavallari        0\n",
       "MIZZEN + MAIN            0\n",
       "Free People              0\n",
       "Ellen Tracy              0\n",
       "Citizens of Humanity     0\n",
       "Santoni                  0\n",
       "Boscia                   0\n",
       "Frame                    0\n",
       "Saturdays NYC            0\n",
       "BASE COAT                0\n",
       "Thule                    0\n",
       "Laura Geller Beauty      0\n",
       "The White Company        0\n",
       "Length: 1002, dtype: int64"
      ]
     },
     "execution_count": 29,
     "metadata": {},
     "output_type": "execute_result"
    }
   ],
   "source": [
    "df.sum(axis=1) #row-wise sum ==>brands who have been talked about"
   ]
  },
  {
   "cell_type": "code",
   "execution_count": 35,
   "metadata": {},
   "outputs": [
    {
     "name": "stdout",
     "output_type": "stream",
     "text": [
      "adidas        3\n",
      "kai           0\n",
      "philosophy    0\n",
      "Name: jamescharles, dtype: int64\n",
      "adidas        1\n",
      "kai           0\n",
      "philosophy    0\n",
      "Name: jlo, dtype: int64\n",
      "adidas        3\n",
      "kai           0\n",
      "philosophy    0\n",
      "Name: kendalljenner, dtype: int64\n",
      "adidas        6\n",
      "kai           0\n",
      "philosophy    0\n",
      "Name: kyliejenner, dtype: int64\n",
      "adidas        0\n",
      "kai           0\n",
      "philosophy    1\n",
      "Name: nickiminaj, dtype: int64\n",
      "adidas        1\n",
      "kai           0\n",
      "philosophy    0\n",
      "Name: theellenshow, dtype: int64\n",
      "adidas         0\n",
      "kai            1\n",
      "philosophy    26\n",
      "Name: therock, dtype: int64\n"
     ]
    }
   ],
   "source": [
    "for column in df.columns[df.sum(axis=0) != 0]:\n",
    "    a = df[column][df.sum(axis=1) != 0] #row-wise sum\n",
    "    print(a)"
   ]
  },
  {
   "cell_type": "markdown",
   "metadata": {},
   "source": [
    "Identified the special case: row 42"
   ]
  },
  {
   "cell_type": "markdown",
   "metadata": {},
   "source": [
    "# Summary\n",
    "- example of brand equivalence: people who talked about 'adidas'\n",
    "- jlo\n",
    "- jamescharles\n",
    "- kendalljenner \n",
    "- kyliejenner"
   ]
  },
  {
   "cell_type": "code",
   "execution_count": 40,
   "metadata": {},
   "outputs": [],
   "source": [
    "## function\n",
    "vector = pd.read_csv('/Users/hellofutrue/Desktop/Insight/Python/Feb/files/vector.csv')\n",
    "vector = vector.set_index('Unnamed: 0') #index = influencer's name\n",
    "\n",
    "#import outside fanbase info\n",
    "f = open('/Users/hellofutrue/Desktop/Insight/Python/Feb/files/growing_fashion_influencer_list.txt', 'r')\n",
    "list = f.readlines()\n",
    "f.close()\n",
    "candid_list = list[0].split()\n",
    "\n",
    "#top influencers list\n",
    "w = open('/Users/hellofutrue/Desktop/Insight/Python/Feb/files/top_influencer_list.txt', 'r')\n",
    "list = w.readlines()\n",
    "w.close()\n",
    "top_list = list[0].split()\n",
    "\n",
    "def outputtable1(nameinput):\n",
    "    dst = pd.DataFrame()\n",
    "    for people in candid_list:\n",
    "        row = vector.loc[nameinput, : ].values\n",
    "        other = vector.loc[people, : ].values\n",
    "        score = pd.DataFrame(distance.euclidean(row, other),index=[people], columns=['Euclidean Distance'])\n",
    "        dst = dst.append(score)\n",
    "    result = dst.sort_values(['Euclidean Distance'], ascending=[1])[1:6]\n",
    "    #for name in result.index:\n",
    "    #    result.set_value(name, 'fanbase',database.loc[database['name'] == name]['fanbase'])\n",
    "    result = result.assign(Similarity_Index = result.iloc[:,0])\n",
    "    result.loc[result['Similarity_Index'] <= 0.001, 'Similarity_Index'] = 'Extremely similar' \n",
    "    return result"
   ]
  },
  {
   "cell_type": "code",
   "execution_count": 92,
   "metadata": {},
   "outputs": [
    {
     "data": {
      "text/plain": [
       "Index([], dtype='object')"
      ]
     },
     "execution_count": 92,
     "metadata": {},
     "output_type": "execute_result"
    }
   ],
   "source": [
    "# no overlapp results btw any of the four candidates\n",
    "outputtable1('kyliejenner').index.intersection(outputtable1('kendalljenner').index)"
   ]
  },
  {
   "cell_type": "code",
   "execution_count": 113,
   "metadata": {},
   "outputs": [],
   "source": [
    "def validationsys(nameinput1, nameinput2):\n",
    "    row = vector.loc[nameinput1, : ].values\n",
    "    other = vector.loc[nameinput2, : ].values\n",
    "    score = distance.euclidean(row, other)\n",
    "    return score"
   ]
  },
  {
   "cell_type": "code",
   "execution_count": 118,
   "metadata": {},
   "outputs": [
    {
     "data": {
      "text/plain": [
       "0.037212236088145924"
      ]
     },
     "execution_count": 118,
     "metadata": {},
     "output_type": "execute_result"
    }
   ],
   "source": [
    "validationsys('jlo','kendalljenner')"
   ]
  },
  {
   "cell_type": "code",
   "execution_count": 115,
   "metadata": {},
   "outputs": [
    {
     "data": {
      "text/plain": [
       "0.0421409943755226"
      ]
     },
     "execution_count": 115,
     "metadata": {},
     "output_type": "execute_result"
    }
   ],
   "source": [
    "validationsys('jlo','jamescharles')"
   ]
  },
  {
   "cell_type": "code",
   "execution_count": 107,
   "metadata": {},
   "outputs": [
    {
     "data": {
      "text/html": [
       "<div>\n",
       "<style scoped>\n",
       "    .dataframe tbody tr th:only-of-type {\n",
       "        vertical-align: middle;\n",
       "    }\n",
       "\n",
       "    .dataframe tbody tr th {\n",
       "        vertical-align: top;\n",
       "    }\n",
       "\n",
       "    .dataframe thead th {\n",
       "        text-align: right;\n",
       "    }\n",
       "</style>\n",
       "<table border=\"1\" class=\"dataframe\">\n",
       "  <thead>\n",
       "    <tr style=\"text-align: right;\">\n",
       "      <th></th>\n",
       "      <th>kyliejenner</th>\n",
       "    </tr>\n",
       "  </thead>\n",
       "  <tbody>\n",
       "    <tr>\n",
       "      <th>jlo</th>\n",
       "      <td>0.078149</td>\n",
       "    </tr>\n",
       "  </tbody>\n",
       "</table>\n",
       "</div>"
      ],
      "text/plain": [
       "     kyliejenner\n",
       "jlo     0.078149"
      ]
     },
     "execution_count": 107,
     "metadata": {},
     "output_type": "execute_result"
    }
   ],
   "source": [
    "validationsys('jlo','kyliejenner')"
   ]
  },
  {
   "cell_type": "code",
   "execution_count": 108,
   "metadata": {},
   "outputs": [
    {
     "data": {
      "text/html": [
       "<div>\n",
       "<style scoped>\n",
       "    .dataframe tbody tr th:only-of-type {\n",
       "        vertical-align: middle;\n",
       "    }\n",
       "\n",
       "    .dataframe tbody tr th {\n",
       "        vertical-align: top;\n",
       "    }\n",
       "\n",
       "    .dataframe thead th {\n",
       "        text-align: right;\n",
       "    }\n",
       "</style>\n",
       "<table border=\"1\" class=\"dataframe\">\n",
       "  <thead>\n",
       "    <tr style=\"text-align: right;\">\n",
       "      <th></th>\n",
       "      <th>jamescharles</th>\n",
       "    </tr>\n",
       "  </thead>\n",
       "  <tbody>\n",
       "    <tr>\n",
       "      <th>kendalljenner</th>\n",
       "      <td>0.015534</td>\n",
       "    </tr>\n",
       "  </tbody>\n",
       "</table>\n",
       "</div>"
      ],
      "text/plain": [
       "               jamescharles\n",
       "kendalljenner      0.015534"
      ]
     },
     "execution_count": 108,
     "metadata": {},
     "output_type": "execute_result"
    }
   ],
   "source": [
    "validationsys('kendalljenner','jamescharles')"
   ]
  },
  {
   "cell_type": "code",
   "execution_count": 109,
   "metadata": {},
   "outputs": [
    {
     "data": {
      "text/html": [
       "<div>\n",
       "<style scoped>\n",
       "    .dataframe tbody tr th:only-of-type {\n",
       "        vertical-align: middle;\n",
       "    }\n",
       "\n",
       "    .dataframe tbody tr th {\n",
       "        vertical-align: top;\n",
       "    }\n",
       "\n",
       "    .dataframe thead th {\n",
       "        text-align: right;\n",
       "    }\n",
       "</style>\n",
       "<table border=\"1\" class=\"dataframe\">\n",
       "  <thead>\n",
       "    <tr style=\"text-align: right;\">\n",
       "      <th></th>\n",
       "      <th>jamescharles</th>\n",
       "    </tr>\n",
       "  </thead>\n",
       "  <tbody>\n",
       "    <tr>\n",
       "      <th>kyliejenner</th>\n",
       "      <td>0.070077</td>\n",
       "    </tr>\n",
       "  </tbody>\n",
       "</table>\n",
       "</div>"
      ],
      "text/plain": [
       "             jamescharles\n",
       "kyliejenner      0.070077"
      ]
     },
     "execution_count": 109,
     "metadata": {},
     "output_type": "execute_result"
    }
   ],
   "source": [
    "validationsys('kyliejenner','jamescharles')"
   ]
  },
  {
   "cell_type": "code",
   "execution_count": 110,
   "metadata": {},
   "outputs": [
    {
     "data": {
      "text/html": [
       "<div>\n",
       "<style scoped>\n",
       "    .dataframe tbody tr th:only-of-type {\n",
       "        vertical-align: middle;\n",
       "    }\n",
       "\n",
       "    .dataframe tbody tr th {\n",
       "        vertical-align: top;\n",
       "    }\n",
       "\n",
       "    .dataframe thead th {\n",
       "        text-align: right;\n",
       "    }\n",
       "</style>\n",
       "<table border=\"1\" class=\"dataframe\">\n",
       "  <thead>\n",
       "    <tr style=\"text-align: right;\">\n",
       "      <th></th>\n",
       "      <th>kyliejenner</th>\n",
       "    </tr>\n",
       "  </thead>\n",
       "  <tbody>\n",
       "    <tr>\n",
       "      <th>kendalljenner</th>\n",
       "      <td>0.058518</td>\n",
       "    </tr>\n",
       "  </tbody>\n",
       "</table>\n",
       "</div>"
      ],
      "text/plain": [
       "               kyliejenner\n",
       "kendalljenner     0.058518"
      ]
     },
     "execution_count": 110,
     "metadata": {},
     "output_type": "execute_result"
    }
   ],
   "source": [
    "validationsys('kendalljenner','kyliejenner')"
   ]
  },
  {
   "cell_type": "code",
   "execution_count": 121,
   "metadata": {
    "scrolled": true
   },
   "outputs": [
    {
     "name": "stdout",
     "output_type": "stream",
     "text": [
      "0.05027198449984949\n"
     ]
    }
   ],
   "source": [
    "l =[validationsys('jlo','kendalljenner'), \n",
    "    validationsys('jlo','jamescharles'),\n",
    "    validationsys('jlo','kyliejenner'),\n",
    "    validationsys('kendalljenner','jamescharles'),\n",
    "    validationsys('kyliejenner','jamescharles'),\n",
    "    validationsys('kendalljenner','kyliejenner')]\n",
    "print(np.mean(l))"
   ]
  },
  {
   "cell_type": "markdown",
   "metadata": {},
   "source": [
    "# similarity score of any of them with people outside"
   ]
  },
  {
   "cell_type": "code",
   "execution_count": 123,
   "metadata": {},
   "outputs": [],
   "source": [
    "namelist = ['jlo','jamescharles','kyliejenner','kendalljenner']"
   ]
  },
  {
   "cell_type": "code",
   "execution_count": 150,
   "metadata": {},
   "outputs": [],
   "source": [
    "fulllist = df.columns.tolist()"
   ]
  },
  {
   "cell_type": "code",
   "execution_count": 142,
   "metadata": {},
   "outputs": [],
   "source": [
    "fulllist.remove('jlo')\n",
    "fulllist.remove('jamescharles')\n",
    "fulllist.remove('kyliejenner')\n",
    "fulllist.remove('kendalljenner')"
   ]
  },
  {
   "cell_type": "code",
   "execution_count": 144,
   "metadata": {},
   "outputs": [],
   "source": [
    "outsidelist = fulllist"
   ]
  },
  {
   "cell_type": "code",
   "execution_count": 153,
   "metadata": {},
   "outputs": [
    {
     "name": "stdout",
     "output_type": "stream",
     "text": [
      "0.05400510959952268\n"
     ]
    }
   ],
   "source": [
    "slist = []\n",
    "for people in ['jlo']:\n",
    "    for another in outsidelist:\n",
    "        simi = validationsys(people, another)\n",
    "        slist.append(simi)\n",
    "print(statistics.mean(slist))"
   ]
  },
  {
   "cell_type": "code",
   "execution_count": 154,
   "metadata": {},
   "outputs": [
    {
     "data": {
      "text/plain": [
       "0.07425855845584069"
      ]
     },
     "execution_count": 154,
     "metadata": {},
     "output_type": "execute_result"
    }
   ],
   "source": [
    "(0.05400510959952268- 0.05027198449984949)/0.05027198449984949"
   ]
  },
  {
   "cell_type": "code",
   "execution_count": null,
   "metadata": {},
   "outputs": [],
   "source": []
  }
 ],
 "metadata": {
  "kernelspec": {
   "display_name": "Python 3",
   "language": "python",
   "name": "python3"
  },
  "language_info": {
   "codemirror_mode": {
    "name": "ipython",
    "version": 3
   },
   "file_extension": ".py",
   "mimetype": "text/x-python",
   "name": "python",
   "nbconvert_exporter": "python",
   "pygments_lexer": "ipython3",
   "version": "3.7.1"
  }
 },
 "nbformat": 4,
 "nbformat_minor": 2
}
