{
 "cells": [
  {
   "cell_type": "code",
   "execution_count": 1,
   "metadata": {},
   "outputs": [],
   "source": [
    "import sys\n",
    "import os,glob\n",
    "import re, numpy as np, pandas as pd\n",
    "from pprint import pprint\n",
    "from scipy.spatial import distance\n",
    "import matplotlib.pyplot as plt"
   ]
  },
  {
   "cell_type": "code",
   "execution_count": 2,
   "metadata": {},
   "outputs": [],
   "source": [
    "def toINT(text):\n",
    "    if text[-1]=='M':\n",
    "        return float(text.replace('M',''))*10**6\n",
    "    if text[-1]=='B':\n",
    "        return float(text.replace('B',''))*10**9\n",
    "    if text[-1]=='k':\n",
    "        return float(text.replace('k',''))*10**3"
   ]
  },
  {
   "cell_type": "markdown",
   "metadata": {},
   "source": [
    "# Import vectors"
   ]
  },
  {
   "cell_type": "code",
   "execution_count": 3,
   "metadata": {},
   "outputs": [],
   "source": [
    "vector = pd.read_csv('/Users/hellofutrue/Desktop/Insight/Python/Feb/files/vector.csv')\n",
    "vector = vector.set_index('Unnamed: 0') #index = influencer's name\n",
    "\n",
    "#import outside fanbase info\n",
    "f = open('/Users/hellofutrue/Desktop/Insight/Python/Feb/files/growing_fashion_influencer_list.txt', 'r')\n",
    "list = f.readlines()\n",
    "f.close()\n",
    "candid_list = list[0].split()\n",
    "\n",
    "#top influencers list\n",
    "w = open('/Users/hellofutrue/Desktop/Insight/Python/Feb/files/top_influencer_list.txt', 'r')\n",
    "list = w.readlines()\n",
    "w.close()\n",
    "top_list = list[0].split()\n",
    "\n",
    "#import outside database\n",
    "database = pd.read_csv('/Users/hellofutrue/Desktop/Insight/Python/Untitled Folder/Full_inluencer_list.csv')\n",
    "database = database.drop_duplicates(keep='last')\n",
    "database[\"fanbase\"] = database[\"fanbase\"].apply(lambda x: toINT(x))"
   ]
  },
  {
   "cell_type": "code",
   "execution_count": 4,
   "metadata": {},
   "outputs": [],
   "source": [
    "#import outside fanbase info\n",
    "f = open('/Users/hellofutrue/Desktop/Insight/Python/Feb/files/growing_fashion_influencer_list.txt', 'r')\n",
    "list = f.readlines()\n",
    "f.close()\n",
    "cadid_list = list[0].split()"
   ]
  },
  {
   "cell_type": "markdown",
   "metadata": {},
   "source": [
    "# Experimentation"
   ]
  },
  {
   "cell_type": "code",
   "execution_count": 39,
   "metadata": {},
   "outputs": [],
   "source": [
    "p20 = np.percentile(dst['Euclidean Distance'], 20) #extremely similar (smallest 20%)\n",
    "p50 = np.percentile(dst['Euclidean Distance'], 50) #similar (smallest 50%)"
   ]
  },
  {
   "cell_type": "code",
   "execution_count": 40,
   "metadata": {},
   "outputs": [
    {
     "data": {
      "text/html": [
       "<div>\n",
       "<style scoped>\n",
       "    .dataframe tbody tr th:only-of-type {\n",
       "        vertical-align: middle;\n",
       "    }\n",
       "\n",
       "    .dataframe tbody tr th {\n",
       "        vertical-align: top;\n",
       "    }\n",
       "\n",
       "    .dataframe thead th {\n",
       "        text-align: right;\n",
       "    }\n",
       "</style>\n",
       "<table border=\"1\" class=\"dataframe\">\n",
       "  <thead>\n",
       "    <tr style=\"text-align: right;\">\n",
       "      <th></th>\n",
       "      <th>Euclidean Distance</th>\n",
       "    </tr>\n",
       "  </thead>\n",
       "  <tbody>\n",
       "    <tr>\n",
       "      <th>saraunderwood</th>\n",
       "      <td>0.0</td>\n",
       "    </tr>\n",
       "    <tr>\n",
       "      <th>wolfiecindy</th>\n",
       "      <td>0.0</td>\n",
       "    </tr>\n",
       "    <tr>\n",
       "      <th>jccaylen</th>\n",
       "      <td>0.0</td>\n",
       "    </tr>\n",
       "    <tr>\n",
       "      <th>winnieharlow</th>\n",
       "      <td>0.0</td>\n",
       "    </tr>\n",
       "    <tr>\n",
       "      <th>drayamichele</th>\n",
       "      <td>0.0</td>\n",
       "    </tr>\n",
       "  </tbody>\n",
       "</table>\n",
       "</div>"
      ],
      "text/plain": [
       "               Euclidean Distance\n",
       "saraunderwood                 0.0\n",
       "wolfiecindy                   0.0\n",
       "jccaylen                      0.0\n",
       "winnieharlow                  0.0\n",
       "drayamichele                  0.0"
      ]
     },
     "execution_count": 40,
     "metadata": {},
     "output_type": "execute_result"
    }
   ],
   "source": [
    "result = dst.sort_values(['Euclidean Distance'], ascending=[1])[1:6]\n",
    "result"
   ]
  },
  {
   "cell_type": "code",
   "execution_count": 44,
   "metadata": {},
   "outputs": [
    {
     "data": {
      "text/html": [
       "<div>\n",
       "<style scoped>\n",
       "    .dataframe tbody tr th:only-of-type {\n",
       "        vertical-align: middle;\n",
       "    }\n",
       "\n",
       "    .dataframe tbody tr th {\n",
       "        vertical-align: top;\n",
       "    }\n",
       "\n",
       "    .dataframe thead th {\n",
       "        text-align: right;\n",
       "    }\n",
       "</style>\n",
       "<table border=\"1\" class=\"dataframe\">\n",
       "  <thead>\n",
       "    <tr style=\"text-align: right;\">\n",
       "      <th></th>\n",
       "      <th>Euclidean Distance</th>\n",
       "      <th>Similarity mark</th>\n",
       "    </tr>\n",
       "  </thead>\n",
       "  <tbody>\n",
       "    <tr>\n",
       "      <th>saraunderwood</th>\n",
       "      <td>0.0</td>\n",
       "      <td>Average</td>\n",
       "    </tr>\n",
       "    <tr>\n",
       "      <th>wolfiecindy</th>\n",
       "      <td>0.0</td>\n",
       "      <td>Average</td>\n",
       "    </tr>\n",
       "    <tr>\n",
       "      <th>jccaylen</th>\n",
       "      <td>0.0</td>\n",
       "      <td>Average</td>\n",
       "    </tr>\n",
       "    <tr>\n",
       "      <th>winnieharlow</th>\n",
       "      <td>0.0</td>\n",
       "      <td>Average</td>\n",
       "    </tr>\n",
       "    <tr>\n",
       "      <th>drayamichele</th>\n",
       "      <td>0.0</td>\n",
       "      <td>Average</td>\n",
       "    </tr>\n",
       "  </tbody>\n",
       "</table>\n",
       "</div>"
      ],
      "text/plain": [
       "               Euclidean Distance Similarity mark\n",
       "saraunderwood                 0.0         Average\n",
       "wolfiecindy                   0.0         Average\n",
       "jccaylen                      0.0         Average\n",
       "winnieharlow                  0.0         Average\n",
       "drayamichele                  0.0         Average"
      ]
     },
     "execution_count": 44,
     "metadata": {},
     "output_type": "execute_result"
    }
   ],
   "source": [
    "result['Similarity mark'] = 'Average'\n",
    "result"
   ]
  },
  {
   "cell_type": "code",
   "execution_count": 45,
   "metadata": {},
   "outputs": [
    {
     "name": "stderr",
     "output_type": "stream",
     "text": [
      "/Users/hellofutrue/anaconda3/lib/python3.7/site-packages/ipykernel_launcher.py:3: SettingWithCopyWarning: \n",
      "A value is trying to be set on a copy of a slice from a DataFrame\n",
      "\n",
      "See the caveats in the documentation: http://pandas.pydata.org/pandas-docs/stable/indexing.html#indexing-view-versus-copy\n",
      "  This is separate from the ipykernel package so we can avoid doing imports until\n",
      "/Users/hellofutrue/anaconda3/lib/python3.7/site-packages/ipykernel_launcher.py:5: SettingWithCopyWarning: \n",
      "A value is trying to be set on a copy of a slice from a DataFrame\n",
      "\n",
      "See the caveats in the documentation: http://pandas.pydata.org/pandas-docs/stable/indexing.html#indexing-view-versus-copy\n",
      "  \"\"\"\n"
     ]
    }
   ],
   "source": [
    "for i in range(len(result['Euclidean Distance'])):\n",
    "    if result['Euclidean Distance'][i] < p50:\n",
    "        result['Similarity mark'][i] = 'Similar'\n",
    "    if result['Euclidean Distance'][i] < p20:\n",
    "        result['Similarity mark'][i] = 'Extremely similar'"
   ]
  },
  {
   "cell_type": "code",
   "execution_count": 46,
   "metadata": {},
   "outputs": [
    {
     "data": {
      "text/html": [
       "<div>\n",
       "<style scoped>\n",
       "    .dataframe tbody tr th:only-of-type {\n",
       "        vertical-align: middle;\n",
       "    }\n",
       "\n",
       "    .dataframe tbody tr th {\n",
       "        vertical-align: top;\n",
       "    }\n",
       "\n",
       "    .dataframe thead th {\n",
       "        text-align: right;\n",
       "    }\n",
       "</style>\n",
       "<table border=\"1\" class=\"dataframe\">\n",
       "  <thead>\n",
       "    <tr style=\"text-align: right;\">\n",
       "      <th></th>\n",
       "      <th>Euclidean Distance</th>\n",
       "      <th>Similarity mark</th>\n",
       "    </tr>\n",
       "  </thead>\n",
       "  <tbody>\n",
       "    <tr>\n",
       "      <th>saraunderwood</th>\n",
       "      <td>0.0</td>\n",
       "      <td>Extremely similar</td>\n",
       "    </tr>\n",
       "    <tr>\n",
       "      <th>wolfiecindy</th>\n",
       "      <td>0.0</td>\n",
       "      <td>Extremely similar</td>\n",
       "    </tr>\n",
       "    <tr>\n",
       "      <th>jccaylen</th>\n",
       "      <td>0.0</td>\n",
       "      <td>Extremely similar</td>\n",
       "    </tr>\n",
       "    <tr>\n",
       "      <th>winnieharlow</th>\n",
       "      <td>0.0</td>\n",
       "      <td>Extremely similar</td>\n",
       "    </tr>\n",
       "    <tr>\n",
       "      <th>drayamichele</th>\n",
       "      <td>0.0</td>\n",
       "      <td>Extremely similar</td>\n",
       "    </tr>\n",
       "  </tbody>\n",
       "</table>\n",
       "</div>"
      ],
      "text/plain": [
       "               Euclidean Distance    Similarity mark\n",
       "saraunderwood                 0.0  Extremely similar\n",
       "wolfiecindy                   0.0  Extremely similar\n",
       "jccaylen                      0.0  Extremely similar\n",
       "winnieharlow                  0.0  Extremely similar\n",
       "drayamichele                  0.0  Extremely similar"
      ]
     },
     "execution_count": 46,
     "metadata": {},
     "output_type": "execute_result"
    }
   ],
   "source": [
    "result"
   ]
  },
  {
   "cell_type": "markdown",
   "metadata": {},
   "source": [
    "# Function"
   ]
  },
  {
   "cell_type": "code",
   "execution_count": 5,
   "metadata": {},
   "outputs": [],
   "source": [
    "def outputtable1(nameinput):\n",
    "    dst = pd.DataFrame()\n",
    "    for people in cadid_list:\n",
    "        row = vector.loc[nameinput, : ].values\n",
    "        other = vector.loc[people, : ].values\n",
    "        score = pd.DataFrame(distance.euclidean(row, other),index=[people], columns=['Euclidean Distance'])\n",
    "        dst = dst.append(score)\n",
    "    result = dst.sort_values(['Euclidean Distance'], ascending=[1])[1:6]\n",
    "    #for name in result.index:\n",
    "    #    result.set_value(name, 'fanbase',database.loc[database['name'] == name]['fanbase'])\n",
    "    result = result.assign(Similarity_Index = result.iloc[:,0])\n",
    "    result.loc[result['Similarity_Index'] <= 0.001, 'Similarity_Index'] = 'Extremely similar' \n",
    "    return result"
   ]
  },
  {
   "cell_type": "code",
   "execution_count": 6,
   "metadata": {},
   "outputs": [
    {
     "data": {
      "text/html": [
       "<div>\n",
       "<style scoped>\n",
       "    .dataframe tbody tr th:only-of-type {\n",
       "        vertical-align: middle;\n",
       "    }\n",
       "\n",
       "    .dataframe tbody tr th {\n",
       "        vertical-align: top;\n",
       "    }\n",
       "\n",
       "    .dataframe thead th {\n",
       "        text-align: right;\n",
       "    }\n",
       "</style>\n",
       "<table border=\"1\" class=\"dataframe\">\n",
       "  <thead>\n",
       "    <tr style=\"text-align: right;\">\n",
       "      <th></th>\n",
       "      <th>Euclidean Distance</th>\n",
       "      <th>Similarity_Index</th>\n",
       "    </tr>\n",
       "  </thead>\n",
       "  <tbody>\n",
       "    <tr>\n",
       "      <th>rickeythompson</th>\n",
       "      <td>0.012132</td>\n",
       "      <td>0.0121321</td>\n",
       "    </tr>\n",
       "    <tr>\n",
       "      <th>antoniiogarza</th>\n",
       "      <td>0.012137</td>\n",
       "      <td>0.012137</td>\n",
       "    </tr>\n",
       "    <tr>\n",
       "      <th>nashgrier</th>\n",
       "      <td>0.014988</td>\n",
       "      <td>0.0149879</td>\n",
       "    </tr>\n",
       "    <tr>\n",
       "      <th>joynerlucas</th>\n",
       "      <td>0.014988</td>\n",
       "      <td>0.0149883</td>\n",
       "    </tr>\n",
       "    <tr>\n",
       "      <th>joiechavis</th>\n",
       "      <td>0.014988</td>\n",
       "      <td>0.0149884</td>\n",
       "    </tr>\n",
       "  </tbody>\n",
       "</table>\n",
       "</div>"
      ],
      "text/plain": [
       "                Euclidean Distance Similarity_Index\n",
       "rickeythompson            0.012132        0.0121321\n",
       "antoniiogarza             0.012137         0.012137\n",
       "nashgrier                 0.014988        0.0149879\n",
       "joynerlucas               0.014988        0.0149883\n",
       "joiechavis                0.014988        0.0149884"
      ]
     },
     "execution_count": 6,
     "metadata": {},
     "output_type": "execute_result"
    }
   ],
   "source": [
    "outputtable1('jamescharles')"
   ]
  },
  {
   "cell_type": "code",
   "execution_count": 7,
   "metadata": {},
   "outputs": [
    {
     "data": {
      "text/html": [
       "<div>\n",
       "<style scoped>\n",
       "    .dataframe tbody tr th:only-of-type {\n",
       "        vertical-align: middle;\n",
       "    }\n",
       "\n",
       "    .dataframe tbody tr th {\n",
       "        vertical-align: top;\n",
       "    }\n",
       "\n",
       "    .dataframe thead th {\n",
       "        text-align: right;\n",
       "    }\n",
       "</style>\n",
       "<table border=\"1\" class=\"dataframe\">\n",
       "  <thead>\n",
       "    <tr style=\"text-align: right;\">\n",
       "      <th></th>\n",
       "      <th>Euclidean Distance</th>\n",
       "      <th>Similarity_Index</th>\n",
       "    </tr>\n",
       "  </thead>\n",
       "  <tbody>\n",
       "    <tr>\n",
       "      <th>saraunderwood</th>\n",
       "      <td>0.0</td>\n",
       "      <td>Extremely similar</td>\n",
       "    </tr>\n",
       "    <tr>\n",
       "      <th>wolfiecindy</th>\n",
       "      <td>0.0</td>\n",
       "      <td>Extremely similar</td>\n",
       "    </tr>\n",
       "    <tr>\n",
       "      <th>jccaylen</th>\n",
       "      <td>0.0</td>\n",
       "      <td>Extremely similar</td>\n",
       "    </tr>\n",
       "    <tr>\n",
       "      <th>winnieharlow</th>\n",
       "      <td>0.0</td>\n",
       "      <td>Extremely similar</td>\n",
       "    </tr>\n",
       "    <tr>\n",
       "      <th>drayamichele</th>\n",
       "      <td>0.0</td>\n",
       "      <td>Extremely similar</td>\n",
       "    </tr>\n",
       "  </tbody>\n",
       "</table>\n",
       "</div>"
      ],
      "text/plain": [
       "               Euclidean Distance   Similarity_Index\n",
       "saraunderwood                 0.0  Extremely similar\n",
       "wolfiecindy                   0.0  Extremely similar\n",
       "jccaylen                      0.0  Extremely similar\n",
       "winnieharlow                  0.0  Extremely similar\n",
       "drayamichele                  0.0  Extremely similar"
      ]
     },
     "execution_count": 7,
     "metadata": {},
     "output_type": "execute_result"
    }
   ],
   "source": [
    "outputtable1('kendalljenner')"
   ]
  },
  {
   "cell_type": "code",
   "execution_count": 28,
   "metadata": {},
   "outputs": [],
   "source": [
    "def outputtable(nameinput):\n",
    "    dst = pd.DataFrame()\n",
    "    for people in cadid_list:\n",
    "        row = vector.loc[nameinput, : ].values\n",
    "        other = vector.loc[people, : ].values\n",
    "        score = pd.DataFrame(distance.euclidean(row, other),index=[people], columns=['Euclidean Distance'])\n",
    "        dst = dst.append(score)\n",
    "    result = dst.sort_values(['Euclidean Distance'], ascending=[1])[1:6]\n",
    "    #for name in result.index:\n",
    "    #    result.set_value(name, 'fanbase',database.loc[database['name'] == name]['fanbase'])\n",
    "    result = result.assign(Similarity_Index = result.iloc[:,0])\n",
    "    result.loc[result['Similarity_Index'] <= 0.001, 'Similarity_Index'] = 'Extremely similar' \n",
    "    li = []\n",
    "    n = len(result)\n",
    "    for i in range(n):\n",
    "        li.append([result.index[i],str(result.iloc[i, 0]), result.iloc[i, 1]])\n",
    "    return li"
   ]
  },
  {
   "cell_type": "code",
   "execution_count": 84,
   "metadata": {},
   "outputs": [],
   "source": [
    "def predictreach(nameinput):\n",
    "    result = outputtable(nameinput)\n",
    "    for candid in outputtable(nameinput).index.values.tolist():\n",
    "        result.at[candid, 'fanbase'] = database.loc[database['name'] == candid]['fanbase'].values.tolist()[0]\n",
    "    fanbase_lowerbound = max(result['fanbase'])\n",
    "    fanbase_upperbound = sum(result['fanbase'])\n",
    "    return print('The estimated fan base of all 5 suggested ambassadors ranges from', fanbase_lowerbound,'to',fanbase_upperbound)"
   ]
  },
  {
   "cell_type": "code",
   "execution_count": 85,
   "metadata": {},
   "outputs": [
    {
     "name": "stdout",
     "output_type": "stream",
     "text": [
      "The estimated fan base of all 5 suggested ambassadors ranges from 9200000.0 to 30500000.0\n"
     ]
    }
   ],
   "source": [
    "predictreach('nickiminaj')"
   ]
  },
  {
   "cell_type": "code",
   "execution_count": null,
   "metadata": {},
   "outputs": [],
   "source": [
    "topic_name = ['Topic 1','Topic 2','Topic 3','Topic 4','Topic 5','Topic 6','Topic 7','Topic 8','Topic 9','Topic 10']"
   ]
  },
  {
   "cell_type": "code",
   "execution_count": null,
   "metadata": {},
   "outputs": [],
   "source": [
    "for name in outputtable(nameinput).index.values.tolist():\n",
    "    y_pos = vector.loc[name,:]\n",
    "    bars = topic_name\n",
    "    plt.bar(bars,y_pos,color = (0.5,0.1,0.5,0.6))\n",
    "    # Create names on the x-axis\n",
    "    plt.xticks(bars, color='orange')\n",
    "    plt.yticks(color='orange')\n",
    "    plt.ylim(0,1) # Limits for the Y axis\n",
    "    plt.title(name)\n",
    "    \n",
    "    plt.show()"
   ]
  },
  {
   "cell_type": "code",
   "execution_count": 15,
   "metadata": {},
   "outputs": [],
   "source": [
    "resultname = []\n",
    "for i in range(5):\n",
    "    name = outputtable('nickiminaj', candid_list,vector)[i][0]\n",
    "    resultname.append(name)"
   ]
  },
  {
   "cell_type": "code",
   "execution_count": 16,
   "metadata": {},
   "outputs": [
    {
     "data": {
      "text/plain": [
       "['sophiet', 'virginia', 'normani', 'sofiavergara', 'jordynwoods']"
      ]
     },
     "execution_count": 16,
     "metadata": {},
     "output_type": "execute_result"
    }
   ],
   "source": [
    "resultname"
   ]
  },
  {
   "cell_type": "code",
   "execution_count": 20,
   "metadata": {},
   "outputs": [],
   "source": [
    "def predictreach(nameinput):\n",
    "    dst = pd.DataFrame()\n",
    "    for people in candid_list:\n",
    "        row = vector.loc[nameinput, : ].values\n",
    "        other = vector.loc[people, : ].values\n",
    "        score = pd.DataFrame(distance.euclidean(row, other),index=[people], columns=['Euclidean Distance'])\n",
    "        dst = dst.append(score)\n",
    "    result = dst.sort_values(['Euclidean Distance'], ascending=[1])[1:6]\n",
    "    result = result.assign(Similarity_Index = result.iloc[:,0])\n",
    "    for candid in result.index:\n",
    "        result.at[candid, 'fanbase'] = database.loc[database['name'] == candid]['fanbase'].values.tolist()[0]\n",
    "    fanbase_lowerbound = max(result['fanbase'])\n",
    "    fanbase_upperbound = sum(result['fanbase'])\n",
    "    return print('The estimated fan base of all 5 suggested ambassadors ranges from', fanbase_lowerbound,'to',fanbase_upperbound)"
   ]
  },
  {
   "cell_type": "code",
   "execution_count": 23,
   "metadata": {},
   "outputs": [],
   "source": [
    "def predictreach(nameinput):\n",
    "    dst = pd.DataFrame()\n",
    "    for people in candid_list:\n",
    "        row = vector.loc[nameinput, : ].values\n",
    "        other = vector.loc[people, : ].values\n",
    "        score = pd.DataFrame(distance.euclidean(row, other),index=[people], columns=['Euclidean Distance'])\n",
    "        dst = dst.append(score)\n",
    "    result = dst.sort_values(['Euclidean Distance'], ascending=[1])[1:6]\n",
    "    result = result.assign(Similarity_Index = result.iloc[:,0])\n",
    "    for candid in result.index:\n",
    "        result.at[candid, 'fanbase'] = database.loc[database['name'] == candid]['fanbase'].values.tolist()[0]\n",
    "    fanbase_lowerbound = max(result['fanbase'])\n",
    "    fanbase_upperbound = sum(result['fanbase'])\n",
    "    return fanbase_lowerbound, fanbase_upperbound"
   ]
  },
  {
   "cell_type": "markdown",
   "metadata": {},
   "source": [
    "# Function actually in use"
   ]
  },
  {
   "cell_type": "code",
   "execution_count": null,
   "metadata": {},
   "outputs": [],
   "source": [
    "def outputtable(nameinput):\n",
    "    dst = pd.DataFrame()\n",
    "    for people in cadid_list:\n",
    "        row = vector.loc[nameinput, : ].values\n",
    "        other = vector.loc[people, : ].values\n",
    "        score = pd.DataFrame(distance.euclidean(row, other),index=[people], columns=['Euclidean Distance'])\n",
    "        dst = dst.append(score)\n",
    "    result = dst.sort_values(['Euclidean Distance'], ascending=[1])[1:6]\n",
    "    #for name in result.index:\n",
    "    #    result.set_value(name, 'fanbase',database.loc[database['name'] == name]['fanbase'])\n",
    "    result = result.assign(Similarity_Index = result.iloc[:,0])\n",
    "    result.loc[result['Similarity_Index'] <= 0.001, 'Similarity_Index'] = 'Extremely similar' \n",
    "    li = []\n",
    "    n = len(result)\n",
    "    for i in range(n):\n",
    "        li.append([result.index[i],str(result.iloc[i, 0]), result.iloc[i, 1]])\n",
    "    return li"
   ]
  },
  {
   "cell_type": "code",
   "execution_count": 54,
   "metadata": {},
   "outputs": [],
   "source": [
    "def outputtable(nameinput):\n",
    "    dst = pd.DataFrame()\n",
    "    for people in cadid_list:\n",
    "        row = vector.loc[nameinput, : ].values\n",
    "        other = vector.loc[people, : ].values\n",
    "        score = pd.DataFrame(distance.euclidean(row, other),index=[people], columns=['Euclidean Distance'])\n",
    "        dst = dst.append(score)\n",
    "    result = dst.sort_values(['Euclidean Distance'], ascending=[1])[1:6]\n",
    "    #cuttoff score for marking\n",
    "    p3 = np.percentile(dst['Euclidean Distance'], 20) #extremely similar (smallest 20%)\n",
    "    p2 = np.percentile(dst['Euclidean Distance'], 50) #similar (smallest 50%)\n",
    "    result['Similarity mark'] = 'Average'\n",
    "    for i in range(len(result['Euclidean Distance'])):\n",
    "        if result['Euclidean Distance'][i] < p50:\n",
    "            result['Similarity mark'][i] = 'Similar'\n",
    "        if result['Euclidean Distance'][i] < p20:\n",
    "            result['Similarity mark'][i] = 'Extremely similar'\n",
    "    li = []\n",
    "    n = len(result)\n",
    "    for i in range(n):\n",
    "        li.append([result.index[i],str(round(result.iloc[i, 0],4)), result.iloc[i, 1]])\n",
    "    return li"
   ]
  },
  {
   "cell_type": "code",
   "execution_count": 55,
   "metadata": {},
   "outputs": [
    {
     "name": "stderr",
     "output_type": "stream",
     "text": [
      "/Users/hellofutrue/anaconda3/lib/python3.7/site-packages/ipykernel_launcher.py:15: SettingWithCopyWarning: \n",
      "A value is trying to be set on a copy of a slice from a DataFrame\n",
      "\n",
      "See the caveats in the documentation: http://pandas.pydata.org/pandas-docs/stable/indexing.html#indexing-view-versus-copy\n",
      "  from ipykernel import kernelapp as app\n",
      "/Users/hellofutrue/anaconda3/lib/python3.7/site-packages/ipykernel_launcher.py:17: SettingWithCopyWarning: \n",
      "A value is trying to be set on a copy of a slice from a DataFrame\n",
      "\n",
      "See the caveats in the documentation: http://pandas.pydata.org/pandas-docs/stable/indexing.html#indexing-view-versus-copy\n"
     ]
    },
    {
     "data": {
      "text/plain": [
       "[['saraunderwood', '0.0', 'Extremely similar'],\n",
       " ['wolfiecindy', '0.0', 'Extremely similar'],\n",
       " ['jccaylen', '0.0', 'Extremely similar'],\n",
       " ['winnieharlow', '0.0', 'Extremely similar'],\n",
       " ['drayamichele', '0.0', 'Extremely similar']]"
      ]
     },
     "execution_count": 55,
     "metadata": {},
     "output_type": "execute_result"
    }
   ],
   "source": [
    "outputtable(nameinput)"
   ]
  },
  {
   "cell_type": "code",
   "execution_count": null,
   "metadata": {},
   "outputs": [],
   "source": [
    "def predictreach(nameinput):\n",
    "    dst = pd.DataFrame()\n",
    "    for people in candid_list:\n",
    "        row = vector.loc[nameinput, : ].values\n",
    "        other = vector.loc[people, : ].values\n",
    "        score = pd.DataFrame(distance.euclidean(row, other),index=[people], columns=['Euclidean Distance'])\n",
    "        dst = dst.append(score)\n",
    "    result = dst.sort_values(['Euclidean Distance'], ascending=[1])[1:6]\n",
    "    result = result.assign(Similarity_Index = result.iloc[:,0])\n",
    "    for candid in result.index:\n",
    "        result.at[candid, 'fanbase'] = database.loc[database['name'] == candid]['fanbase'].values.tolist()[0]\n",
    "    fanbase_lowerbound = max(result['fanbase'])\n",
    "    fanbase_upperbound = sum(result['fanbase'])\n",
    "    return fanbase_lowerbound, fanbase_upperbound"
   ]
  }
 ],
 "metadata": {
  "kernelspec": {
   "display_name": "Python 3",
   "language": "python",
   "name": "python3"
  },
  "language_info": {
   "codemirror_mode": {
    "name": "ipython",
    "version": 3
   },
   "file_extension": ".py",
   "mimetype": "text/x-python",
   "name": "python",
   "nbconvert_exporter": "python",
   "pygments_lexer": "ipython3",
   "version": "3.7.1"
  }
 },
 "nbformat": 4,
 "nbformat_minor": 2
}
